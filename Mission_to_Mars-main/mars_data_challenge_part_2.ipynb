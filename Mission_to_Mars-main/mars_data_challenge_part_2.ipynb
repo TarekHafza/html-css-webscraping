{
 "cells": [
  {
   "cell_type": "code",
   "execution_count": null,
   "id": "96a9c42b",
   "metadata": {},
   "outputs": [],
   "source": [
    "# Import dependencies \n",
    "import pandas as pd\n",
    "import matplotlib.pyplot as plt\n",
    "%matplotlib inline\n",
    "from splinter import Browser\n",
    "from bs4 import BeautifulSoup as soup\n",
    "from webdriver_manager.chrome import ChromeDriverManager\n",
    "\n",
    "# Set up Browser with Splinter\n",
    "executable_path = {'executable_path': ChromeDriverManager().install()}\n",
    "browser = Browser('chrome', **executable_path, headless=False)"
   ]
  },
  {
   "cell_type": "code",
   "execution_count": null,
   "id": "8b2d4ff7",
   "metadata": {},
   "outputs": [],
   "source": [
    "# Have the browser navigate to the website and copy the content\n",
    "url = 'https://data-class-mars-challenge.s3.amazonaws.com/Mars/index.html'\n",
    "browser.visit(url)\n",
    "html = browser.html\n",
    "soup = soup(html, 'html.parser')"
   ]
  },
  {
   "attachments": {},
   "cell_type": "markdown",
   "id": "24568765",
   "metadata": {},
   "source": [
    "## Find the table"
   ]
  },
  {
   "cell_type": "code",
   "execution_count": null,
   "id": "42d6523d",
   "metadata": {},
   "outputs": [],
   "source": [
    " # Find the table\n",
    "table = soup.find('table', class_='table')\n",
    "table"
   ]
  },
  {
   "cell_type": "code",
   "execution_count": null,
   "id": "8baa56da",
   "metadata": {},
   "outputs": [],
   "source": [
    "# Find the header\n",
    "table_header = table.find_all('th')\n",
    "\n",
    "headers=[]\n",
    "for header_ele in table_header:\n",
    "    title=header_ele.text\n",
    "    headers.append(title)\n",
    "    \n",
    "headers"
   ]
  },
  {
   "cell_type": "code",
   "execution_count": null,
   "id": "ebcb506c",
   "metadata": {},
   "outputs": [],
   "source": [
    "df=pd.DataFrame(columns=headers)\n",
    "df"
   ]
  },
  {
   "cell_type": "code",
   "execution_count": null,
   "id": "9ba5ddbf",
   "metadata": {},
   "outputs": [],
   "source": [
    "# Find the row data \n",
    "for row in table.find_all('tr',class_='data-row'):\n",
    "        data = row.find_all('td')\n",
    "        row_data=[td.text.strip() for td in data]\n",
    "        lenghth=len(df)\n",
    "        df.loc[lenghth]=row_data\n",
    "        \n",
    "df"
   ]
  },
  {
   "cell_type": "code",
   "execution_count": null,
   "id": "24584288",
   "metadata": {},
   "outputs": [],
   "source": [
    "# Close the session \n",
    "browser.quit()"
   ]
  },
  {
   "attachments": {},
   "cell_type": "markdown",
   "id": "4e7e3e55",
   "metadata": {},
   "source": [
    "## Checking the data types"
   ]
  },
  {
   "cell_type": "code",
   "execution_count": null,
   "id": "3a08747d",
   "metadata": {},
   "outputs": [],
   "source": [
    "# Check data types\n",
    "df.dtypes"
   ]
  },
  {
   "cell_type": "code",
   "execution_count": null,
   "id": "502b4919",
   "metadata": {},
   "outputs": [],
   "source": [
    "# Change data types \n",
    "df['id']=df['id'].astype(int)\n",
    "df['terrestrial_date']=pd.to_datetime(df['terrestrial_date'])\n",
    "df['sol']=df['sol'].astype(int)\n",
    "df['ls']=df['ls'].astype(int)\n",
    "df['month']=df['month'].astype(int)\n",
    "df['min_temp']=df['min_temp'].astype(float)\n",
    "df['pressure']=df['pressure'].astype(float)\n",
    "\n",
    "# Check data types again \n",
    "df.info()"
   ]
  },
  {
   "attachments": {},
   "cell_type": "markdown",
   "id": "a4e72508",
   "metadata": {},
   "source": [
    "## Finding the number of Months on Mars"
   ]
  },
  {
   "cell_type": "code",
   "execution_count": null,
   "id": "a5df7986",
   "metadata": {},
   "outputs": [],
   "source": [
    "# Answer the following question: How many months exist on Mars?\n",
    "nb_of_months=df['month'].nunique()\n",
    "print(f'There are', nb_of_months ,'months on Mars.')"
   ]
  },
  {
   "attachments": {},
   "cell_type": "markdown",
   "id": "3aa1dad6",
   "metadata": {},
   "source": [
    "# Finding the number of Martian days worth of data"
   ]
  },
  {
   "cell_type": "code",
   "execution_count": null,
   "id": "97869a28",
   "metadata": {},
   "outputs": [],
   "source": [
    "# How many Martian (and not Earth) days worth of data exist in the scraped dataset?\n",
    "first_day_of_data=df['sol'].min()\n",
    "last_day_of_data = df['sol'].max()\n",
    "unique_days_date=df['sol'].nunique()\n",
    "print(f'There are', unique_days_date, 'Martian days worth of data in the'\n",
    "      'dataset, spreading from day',first_day_of_data, 'to day',last_day_of_data,'. It is worth noting that in some'\n",
    "     'days data is taken multiple times. ')\n",
    "\n"
   ]
  },
  {
   "attachments": {},
   "cell_type": "markdown",
   "id": "60d43eb6",
   "metadata": {},
   "source": [
    "## Finding the coldest and the warmest months on Mars"
   ]
  },
  {
   "cell_type": "code",
   "execution_count": null,
   "id": "dfb3febf",
   "metadata": {},
   "outputs": [],
   "source": [
    "# Iterating through the data to find the average minimum temperature for each month\n",
    "avg_min_temp=[]\n",
    "\n",
    "for i in range(1,nb_of_months+1):\n",
    "    weather_per_month={\"month_nb\":\"\",\"avg_min_temp\":\"\"}\n",
    "    avg_min_temp_month=df.loc[df['month']==i]['min_temp'].mean()\n",
    "    round_avg_min_temp_month = round(avg_min_temp_month,0)\n",
    "    weather_per_month[\"month_nb\"] = i\n",
    "    weather_per_month[\"avg_min_temp\"] = round_avg_min_temp_month\n",
    "    avg_min_temp.append(weather_per_month)    \n",
    "\n",
    "print(avg_min_temp)      "
   ]
  },
  {
   "cell_type": "code",
   "execution_count": null,
   "id": "b1540b01",
   "metadata": {},
   "outputs": [],
   "source": [
    "# Export Python list to JSON file\n",
    "import json\n",
    "json_mars_temp = json.dumps(avg_min_temp)\n",
    "# Save json as df file\n",
    "df_month_temp=pd.read_json(json_mars_temp)\n",
    "df_month_temp"
   ]
  },
  {
   "cell_type": "code",
   "execution_count": null,
   "id": "006ea5f1",
   "metadata": {},
   "outputs": [],
   "source": [
    "# Plot avg_min_temp\n",
    "plt.bar(df_month_temp['month_nb'],df_month_temp['avg_min_temp'], color='green')\n",
    "\n",
    "# Create labels for the x and y axes.\n",
    "plt.xlabel(\"Months\")\n",
    "plt.ylabel(\"Avg_min_temp\")\n",
    "\n",
    "# Create title \n",
    "plt.title('Avergae Minimum Temperature by Month')"
   ]
  },
  {
   "cell_type": "code",
   "execution_count": null,
   "id": "78477223",
   "metadata": {},
   "outputs": [],
   "source": [
    "# The coldest month \n",
    "min_avg_temp = df_month_temp['avg_min_temp'].min()\n",
    "month_min_temp=df_month_temp.loc[df_month_temp['avg_min_temp']==min_avg_temp]\n",
    "month_min_temp\n"
   ]
  },
  {
   "attachments": {},
   "cell_type": "markdown",
   "id": "9621956d",
   "metadata": {},
   "source": [
    "Months 3 and 4 have the average minimum temperature of -83 degrees."
   ]
  },
  {
   "cell_type": "code",
   "execution_count": null,
   "id": "9db645ef",
   "metadata": {},
   "outputs": [],
   "source": [
    "# The warmest month\n",
    "max_avg_temp = df_month_temp['avg_min_temp'].max()\n",
    "month_max_temp=df_month_temp.loc[df_month_temp['avg_min_temp']==max_avg_temp]\n",
    "month_max_temp"
   ]
  },
  {
   "attachments": {},
   "cell_type": "markdown",
   "id": "43b15e98",
   "metadata": {},
   "source": [
    "Month 8 is the warmest month "
   ]
  },
  {
   "attachments": {},
   "cell_type": "markdown",
   "id": "fd01075d",
   "metadata": {},
   "source": [
    "## Finding the months with the highest and lowest atmospheric pressure on Mars"
   ]
  },
  {
   "cell_type": "code",
   "execution_count": null,
   "id": "8c24248b",
   "metadata": {},
   "outputs": [],
   "source": [
    "# Grouping DataFrame by the average of pressure for each month\n",
    "df_by_month=df.groupby('month')\n",
    "df_month_pressure=df_by_month.mean().loc[:,['pressure']]\n",
    "df_month_pressure"
   ]
  },
  {
   "cell_type": "code",
   "execution_count": null,
   "id": "6a11aaf8",
   "metadata": {},
   "outputs": [],
   "source": [
    "# The month with the lowest atmospheric pressure  \n",
    "min_avg_pressure= df_month_pressure['pressure'].min()\n",
    "month_min_pressure=df_month_pressure.loc[df_month_pressure['pressure']==min_avg_pressure]\n",
    "month_min_pressure\n"
   ]
  },
  {
   "attachments": {},
   "cell_type": "markdown",
   "id": "28448002",
   "metadata": {},
   "source": [
    "Month 6 is the month with the lowest pressure"
   ]
  },
  {
   "cell_type": "code",
   "execution_count": null,
   "id": "846ed10d",
   "metadata": {},
   "outputs": [],
   "source": [
    "# The month with the highest atmospheric pressure  \n",
    "max_avg_pressure= df_month_pressure['pressure'].max()\n",
    "month_max_pressure=df_month_pressure.loc[df_month_pressure['pressure']==max_avg_pressure]\n",
    "month_max_pressure"
   ]
  },
  {
   "attachments": {},
   "cell_type": "markdown",
   "id": "612e8a7e",
   "metadata": {},
   "source": [
    "Month 9 is the month with the highest pressure"
   ]
  },
  {
   "cell_type": "code",
   "execution_count": null,
   "id": "13df9a5d",
   "metadata": {},
   "outputs": [],
   "source": [
    "# Plot avg_pressure\n",
    "x=range(1,13)\n",
    "plt.bar(x,df_month_pressure['pressure'])\n",
    "\n",
    "# Create labels for the x and y axes.\n",
    "plt.xlabel(\"Months\")\n",
    "plt.ylabel(\"Avg_pressure\")\n",
    "\n",
    "# Create title \n",
    "plt.title('Avergae Pressure by Month')"
   ]
  },
  {
   "attachments": {},
   "cell_type": "markdown",
   "id": "0b7b3143",
   "metadata": {},
   "source": [
    "# How many terrestrial (Earth) days exist in a Martian year? "
   ]
  },
  {
   "cell_type": "code",
   "execution_count": null,
   "id": "029058cf",
   "metadata": {},
   "outputs": [],
   "source": [
    "#Finding the original Sun longitude\n",
    "orig_long=df['ls'].loc[0]\n",
    "orig_long"
   ]
  },
  {
   "cell_type": "code",
   "execution_count": null,
   "id": "fe6fe7c8",
   "metadata": {},
   "outputs": [],
   "source": [
    "# Knowing that the Sun longitude will be the same after Approximately 1 Martial year\n",
    "# I am going to find the next rows where longitude is equal the orig_long\n",
    "same_long=df.loc[df['ls']==orig_long]\n",
    "same_long"
   ]
  },
  {
   "cell_type": "code",
   "execution_count": null,
   "id": "3db2ed03",
   "metadata": {},
   "outputs": [],
   "source": [
    "import datetime as dt\n",
    "from datetime import timedelta\n",
    "from datetime import datetime\n",
    "\n",
    "a=same_long['terrestrial_date'].loc[0]\n",
    "date_after_one_martial_year = same_long['terrestrial_date'].iloc[1]\n",
    "one_martial_year= date_after_one_martial_year-a\n",
    "print(f'In one Martial year, nearly ',one_martial_year,'pass on Earth')"
   ]
  },
  {
   "cell_type": "code",
   "execution_count": null,
   "id": "505a78dd",
   "metadata": {},
   "outputs": [],
   "source": [
    "# Ploting the minimum temperature vs Martian Days \n",
    "plt.bar(df['sol'],df['min_temp'])\n",
    "\n",
    "# Create labels for the x and y axes.\n",
    "plt.xlabel(\"Days\")\n",
    "plt.ylabel(\"Minimum Temperature \")\n",
    "\n",
    "# Create title \n",
    "plt.title('Daily minimum temperature')"
   ]
  },
  {
   "attachments": {},
   "cell_type": "markdown",
   "id": "eabc2fcc",
   "metadata": {},
   "source": [
    "From the above graph one can notice that planet Mars circles the sun 3 times in 2000 days. This means that a Martial year is around 666 Terrestrial days (2000/3). Giving us almost the same number."
   ]
  },
  {
   "cell_type": "code",
   "execution_count": null,
   "id": "b0c1c680",
   "metadata": {},
   "outputs": [],
   "source": [
    "# Export the DataFrame to a CSV file\n",
    "df.to_csv('mars_table.csv',index=False)"
   ]
  }
 ],
 "metadata": {
  "kernelspec": {
   "display_name": "Python 3",
   "language": "python",
   "name": "python3"
  },
  "language_info": {
   "codemirror_mode": {
    "name": "ipython",
    "version": 3
   },
   "file_extension": ".py",
   "mimetype": "text/x-python",
   "name": "python",
   "nbconvert_exporter": "python",
   "pygments_lexer": "ipython3",
   "version": "3.11.2"
  }
 },
 "nbformat": 4,
 "nbformat_minor": 5
}
